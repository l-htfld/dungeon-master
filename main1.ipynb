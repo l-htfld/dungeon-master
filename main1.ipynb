{
 "cells": [
  {
   "cell_type": "code",
   "execution_count": 9,
   "metadata": {},
   "outputs": [
    {
     "name": "stdout",
     "output_type": "stream",
     "text": [
      "Requirement already satisfied: PyOpenGL in c:\\users\\slava\\appdata\\local\\programs\\python\\python38\\lib\\site-packages (3.1.7)Note: you may need to restart the kernel to use updated packages.\n"
     ]
    },
    {
     "name": "stderr",
     "output_type": "stream",
     "text": [
      "WARNING: You are using pip version 20.2.3; however, version 24.3.1 is available.\n",
      "You should consider upgrading via the 'c:\\Users\\slava\\AppData\\Local\\Programs\\Python\\Python38\\python.exe -m pip install --upgrade pip' command.\n"
     ]
    },
    {
     "name": "stdout",
     "output_type": "stream",
     "text": [
      "\n",
      "Requirement already satisfied: PyOpenGL_accelerate in c:\\users\\slava\\appdata\\local\\programs\\python\\python38\\lib\\site-packages (3.1.7)\n",
      "Requirement already satisfied: pygame in c:\\users\\slava\\appdata\\local\\programs\\python\\python38\\lib\\site-packages (2.6.1)\n"
     ]
    }
   ],
   "source": [
    "pip install PyOpenGL PyOpenGL_accelerate pygame"
   ]
  },
  {
   "cell_type": "code",
   "execution_count": 10,
   "metadata": {},
   "outputs": [],
   "source": [
    "import pygame\n",
    "from pygame.locals import *\n",
    "from OpenGL.GL import *\n",
    "from OpenGL.GLUT import *\n",
    "from OpenGL.GLU import *\n",
    "import random\n",
    "import sys\n",
    "import math"
   ]
  },
  {
   "cell_type": "code",
   "execution_count": null,
   "metadata": {},
   "outputs": [
    {
     "ename": "NameError",
     "evalue": "name 'sin' is not defined",
     "output_type": "error",
     "traceback": [
      "\u001b[1;31m---------------------------------------------------------------------------\u001b[0m",
      "\u001b[1;31mNameError\u001b[0m                                 Traceback (most recent call last)",
      "Cell \u001b[1;32mIn[11], line 78\u001b[0m\n\u001b[0;32m     75\u001b[0m             pygame\u001b[38;5;241m.\u001b[39mtime\u001b[38;5;241m.\u001b[39mwait(\u001b[38;5;241m10\u001b[39m)\n\u001b[0;32m     77\u001b[0m game \u001b[38;5;241m=\u001b[39m Gameplay3D()\n\u001b[1;32m---> 78\u001b[0m \u001b[43mgame\u001b[49m\u001b[38;5;241;43m.\u001b[39;49m\u001b[43mmain_loop\u001b[49m\u001b[43m(\u001b[49m\u001b[43m)\u001b[49m\n",
      "Cell \u001b[1;32mIn[11], line 69\u001b[0m, in \u001b[0;36mGameplay3D.main_loop\u001b[1;34m(self)\u001b[0m\n\u001b[0;32m     66\u001b[0m glClear(GL_COLOR_BUFFER_BIT \u001b[38;5;241m|\u001b[39m GL_DEPTH_BUFFER_BIT)\n\u001b[0;32m     68\u001b[0m \u001b[38;5;66;03m# Обновление камеры и рисование сцены\u001b[39;00m\n\u001b[1;32m---> 69\u001b[0m \u001b[38;5;28;43mself\u001b[39;49m\u001b[38;5;241;43m.\u001b[39;49m\u001b[43mupdate_camera\u001b[49m\u001b[43m(\u001b[49m\u001b[43m)\u001b[49m\n\u001b[0;32m     70\u001b[0m \u001b[38;5;28mself\u001b[39m\u001b[38;5;241m.\u001b[39mdraw_floor()\n\u001b[0;32m     72\u001b[0m \u001b[38;5;66;03m# Сюда можно добавить вызов для отрисовки врагов и других объектов\u001b[39;00m\n",
      "Cell \u001b[1;32mIn[11], line 60\u001b[0m, in \u001b[0;36mGameplay3D.update_camera\u001b[1;34m(self)\u001b[0m\n\u001b[0;32m     56\u001b[0m \u001b[38;5;28;01mdef\u001b[39;00m \u001b[38;5;21mupdate_camera\u001b[39m(\u001b[38;5;28mself\u001b[39m):\n\u001b[0;32m     57\u001b[0m     glLoadIdentity()\n\u001b[0;32m     58\u001b[0m     gluLookAt(\n\u001b[0;32m     59\u001b[0m         \u001b[38;5;28mself\u001b[39m\u001b[38;5;241m.\u001b[39mcamera_x, \u001b[38;5;28mself\u001b[39m\u001b[38;5;241m.\u001b[39mcamera_y, \u001b[38;5;28mself\u001b[39m\u001b[38;5;241m.\u001b[39mcamera_z,\n\u001b[1;32m---> 60\u001b[0m         \u001b[38;5;28mself\u001b[39m\u001b[38;5;241m.\u001b[39mcamera_x \u001b[38;5;241m+\u001b[39m \u001b[43msin\u001b[49m(radians(\u001b[38;5;28mself\u001b[39m\u001b[38;5;241m.\u001b[39myaw)), \u001b[38;5;28mself\u001b[39m\u001b[38;5;241m.\u001b[39mcamera_y, \u001b[38;5;28mself\u001b[39m\u001b[38;5;241m.\u001b[39mcamera_z \u001b[38;5;241m+\u001b[39m cos(radians(\u001b[38;5;28mself\u001b[39m\u001b[38;5;241m.\u001b[39myaw)),\n\u001b[0;32m     61\u001b[0m         \u001b[38;5;241m0\u001b[39m, \u001b[38;5;241m1\u001b[39m, \u001b[38;5;241m0\u001b[39m\n\u001b[0;32m     62\u001b[0m     )\n",
      "\u001b[1;31mNameError\u001b[0m: name 'sin' is not defined"
     ]
    },
    {
     "ename": "",
     "evalue": "",
     "output_type": "error",
     "traceback": [
      "\u001b[1;31mThe Kernel crashed while executing code in the current cell or a previous cell. \n",
      "\u001b[1;31mPlease review the code in the cell(s) to identify a possible cause of the failure. \n",
      "\u001b[1;31mClick <a href='https://aka.ms/vscodeJupyterKernelCrash'>here</a> for more info. \n",
      "\u001b[1;31mView Jupyter <a href='command:jupyter.viewOutput'>log</a> for further details."
     ]
    }
   ],
   "source": [
    "class Gameplay3D:\n",
    "    def __init__(self):\n",
    "        self.SCREEN_WIDTH = 1280\n",
    "        self.SCREEN_HEIGHT = 720\n",
    "        self.FOV = 45\n",
    "        self.aspect_ratio = self.SCREEN_WIDTH / self.SCREEN_HEIGHT\n",
    "        self.near_plane = 0.1\n",
    "        self.far_plane = 50.0\n",
    "        self.camera_x = 0\n",
    "        self.camera_y = 1\n",
    "        self.camera_z = 5\n",
    "        self.camera_speed = 0.1\n",
    "        self.yaw = 0\n",
    "        self.pitch = 0\n",
    "        self.textures = {}\n",
    "        self.load_textures()\n",
    "\n",
    "    def load_textures(self):\n",
    "        # Загрузка текстур из папки gfx\n",
    "        self.textures['floor'] = self.load_texture('gfx/brick.png')\n",
    "        self.textures['enemy'] = self.load_texture('gfx/enemy_texture.png')\n",
    "\n",
    "    def load_texture(self, filename):\n",
    "        texture_surface = pygame.image.load(filename)\n",
    "        texture_data = pygame.image.tostring(texture_surface, \"RGB\", True)\n",
    "        width, height = texture_surface.get_size()\n",
    "\n",
    "        # Генерация и настройка текстуры в OpenGL\n",
    "        texture_id = glGenTextures(1)\n",
    "        glBindTexture(GL_TEXTURE_2D, texture_id)\n",
    "        glTexImage2D(GL_TEXTURE_2D, 0, GL_RGB, width, height, 0, GL_RGB, GL_UNSIGNED_BYTE, texture_data)\n",
    "        glTexParameteri(GL_TEXTURE_2D, GL_TEXTURE_MIN_FILTER, GL_LINEAR)\n",
    "        glTexParameteri(GL_TEXTURE_2D, GL_TEXTURE_MAG_FILTER, GL_LINEAR)\n",
    "        return texture_id\n",
    "\n",
    "    def init_3d(self):\n",
    "        glEnable(GL_DEPTH_TEST)\n",
    "        glEnable(GL_TEXTURE_2D)  # Включаем текстуры\n",
    "        glMatrixMode(GL_PROJECTION)\n",
    "        gluPerspective(self.FOV, self.aspect_ratio, self.near_plane, self.far_plane)\n",
    "        glMatrixMode(GL_MODELVIEW)\n",
    "\n",
    "    def handle_keys(self, keys):\n",
    "        if keys[K_w]:\n",
    "            self.camera_x -= self.camera_speed * math.sin(math.radians(self.yaw))\n",
    "            self.camera_z -= self.camera_speed * math.cos(math.radians(self.yaw))\n",
    "        if keys[K_s]:\n",
    "            self.camera_x += self.camera_speed * math.sin(math.radians(self.yaw))\n",
    "            self.camera_z += self.camera_speed * math.cos(math.radians(self.yaw))\n",
    "        if keys[K_a]:\n",
    "            self.camera_x -= self.camera_speed * math.cos(math.radians(self.yaw))\n",
    "            self.camera_z += self.camera_speed * math.sin(math.radians(self.yaw))\n",
    "        if keys[K_d]:\n",
    "            self.camera_x += self.camera_speed * math.cos(math.radians(self.yaw))\n",
    "            self.camera_z -= self.camera_speed * math.sin(math.radians(self.yaw))\n",
    "\n",
    "    def update_camera(self):\n",
    "        glClear(GL_COLOR_BUFFER_BIT | GL_DEPTH_BUFFER_BIT)\n",
    "        glLoadIdentity()\n",
    "        \n",
    "        gluLookAt(\n",
    "            self.camera_x, self.camera_y, self.camera_z,\n",
    "            self.camera_x + math.sin(math.radians(self.yaw)), self.camera_y, self.camera_z + math.cos(math.radians(self.yaw)),\n",
    "            0, 1, 0\n",
    "        )\n",
    "\n",
    "    def draw_textured_cube(self, x, y, z, texture_id):\n",
    "        glBindTexture(GL_TEXTURE_2D, texture_id)\n",
    "        glPushMatrix()\n",
    "        glTranslatef(x, y, z)\n",
    "        glBegin(GL_QUADS)\n",
    "\n",
    "        # Верхняя грань\n",
    "        glTexCoord2f(0, 0); glVertex3f(1, 1, -1)\n",
    "        glTexCoord2f(1, 0); glVertex3f(-1, 1, -1)\n",
    "        glTexCoord2f(1, 1); glVertex3f(-1, 1, 1)\n",
    "        glTexCoord2f(0, 1); glVertex3f(1, 1, 1)\n",
    "\n",
    "        # Нижняя грань\n",
    "        glTexCoord2f(0, 0); glVertex3f(1, -1, 1)\n",
    "        glTexCoord2f(1, 0); glVertex3f(-1, -1, 1)\n",
    "        glTexCoord2f(1, 1); glVertex3f(-1, -1, -1)\n",
    "        glTexCoord2f(0, 1); glVertex3f(1, -1, -1)\n",
    "\n",
    "        # Передняя грань\n",
    "        glTexCoord2f(0, 0); glVertex3f(1, 1, 1)\n",
    "        glTexCoord2f(1, 0); glVertex3f(-1, 1, 1)\n",
    "        glTexCoord2f(1, 1); glVertex3f(-1, -1, 1)\n",
    "        glTexCoord2f(0, 1); glVertex3f(1, -1, 1)\n",
    "\n",
    "        # Задняя грань\n",
    "        glTexCoord2f(0, 0); glVertex3f(1, -1, -1)\n",
    "        glTexCoord2f(1, 0); glVertex3f(-1, -1, -1)\n",
    "        glTexCoord2f(1, 1); glVertex3f(-1, 1, -1)\n",
    "        glTexCoord2f(0, 1); glVertex3f(1, 1, -1)\n",
    "\n",
    "        glEnd()\n",
    "        glPopMatrix()"
   ]
  },
  {
   "cell_type": "code",
   "execution_count": null,
   "metadata": {},
   "outputs": [],
   "source": [
    "if __name__ == '__main__':\n",
    "    pygame.init()\n",
    "    pygame.display.set_mode((1280, 720), DOUBLEBUF | OPENGL)\n",
    "    pygame.display.set_caption(\"3D Dungeon Sandbox\")\n",
    "    gameplay = Gameplay3D()\n",
    "    gameplay.init_3d()\n",
    "    clock = pygame.time.Clock()\n",
    "\n",
    "    # Позиции текстурных кубов\n",
    "    cube_positions = [(random.uniform(-10, 10), 0, random.uniform(-10, 10)) for _ in range(10)]\n",
    "\n",
    "    running = True\n",
    "    while running:\n",
    "        for event in pygame.event.get():\n",
    "            if event.type == pygame.QUIT:\n",
    "                running = False\n",
    "\n",
    "        keys = pygame.key.get_pressed()\n",
    "        gameplay.handle_keys(keys)\n",
    "        gameplay.update_camera()\n",
    "        \n",
    "        # Отрисовка текстурных кубов\n",
    "        for pos in cube_positions:\n",
    "            gameplay.draw_textured_cube(*pos, gameplay.textures['floor'])\n",
    "\n",
    "        pygame.display.flip()\n",
    "        clock.tick(60)\n",
    "\n",
    "    pygame.quit()"
   ]
  }
 ],
 "metadata": {
  "kernelspec": {
   "display_name": "Python 3",
   "language": "python",
   "name": "python3"
  },
  "language_info": {
   "codemirror_mode": {
    "name": "ipython",
    "version": 3
   },
   "file_extension": ".py",
   "mimetype": "text/x-python",
   "name": "python",
   "nbconvert_exporter": "python",
   "pygments_lexer": "ipython3",
   "version": "3.8.9"
  }
 },
 "nbformat": 4,
 "nbformat_minor": 2
}
